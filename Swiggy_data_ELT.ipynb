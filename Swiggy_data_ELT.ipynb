{
 "cells": [
  {
   "cell_type": "code",
   "execution_count": 18,
   "id": "632f9d16",
   "metadata": {},
   "outputs": [],
   "source": [
    "import pandas as pd\n",
    "import numpy as np\n",
    "import matplotlib.pyplot as plt\n",
    "import seaborn as sea"
   ]
  },
  {
   "cell_type": "code",
   "execution_count": 19,
   "id": "3112fdfb",
   "metadata": {},
   "outputs": [],
   "source": [
    "df = pd.read_csv(\"C:/Users/shubh/Downloads/Swiggy_Data_Analysis/Swiggy Bangalore Outlet Details.csv\")"
   ]
  },
  {
   "cell_type": "code",
   "execution_count": 20,
   "id": "fbc73a5b",
   "metadata": {},
   "outputs": [
    {
     "name": "stdout",
     "output_type": "stream",
     "text": [
      "<class 'pandas.core.frame.DataFrame'>\n",
      "RangeIndex: 118 entries, 0 to 117\n",
      "Data columns (total 5 columns):\n",
      " #   Column        Non-Null Count  Dtype \n",
      "---  ------        --------------  ----- \n",
      " 0   Shop_Name     118 non-null    object\n",
      " 1   Cuisine       118 non-null    object\n",
      " 2   Location      118 non-null    object\n",
      " 3   Rating        118 non-null    object\n",
      " 4   Cost_for_Two  118 non-null    object\n",
      "dtypes: object(5)\n",
      "memory usage: 4.7+ KB\n"
     ]
    }
   ],
   "source": [
    "df.info()"
   ]
  },
  {
   "cell_type": "code",
   "execution_count": 21,
   "id": "61540cfe",
   "metadata": {},
   "outputs": [
    {
     "data": {
      "text/html": [
       "<div>\n",
       "<style scoped>\n",
       "    .dataframe tbody tr th:only-of-type {\n",
       "        vertical-align: middle;\n",
       "    }\n",
       "\n",
       "    .dataframe tbody tr th {\n",
       "        vertical-align: top;\n",
       "    }\n",
       "\n",
       "    .dataframe thead th {\n",
       "        text-align: right;\n",
       "    }\n",
       "</style>\n",
       "<table border=\"1\" class=\"dataframe\">\n",
       "  <thead>\n",
       "    <tr style=\"text-align: right;\">\n",
       "      <th></th>\n",
       "      <th>Shop_Name</th>\n",
       "      <th>Cuisine</th>\n",
       "      <th>Location</th>\n",
       "      <th>Rating</th>\n",
       "      <th>Cost_for_Two</th>\n",
       "    </tr>\n",
       "  </thead>\n",
       "  <tbody>\n",
       "    <tr>\n",
       "      <th>0</th>\n",
       "      <td>Kanti Sweets</td>\n",
       "      <td>Sweets</td>\n",
       "      <td>Koramangala, Koramangala</td>\n",
       "      <td>4.3</td>\n",
       "      <td>₹ 150</td>\n",
       "    </tr>\n",
       "    <tr>\n",
       "      <th>1</th>\n",
       "      <td>Mumbai Tiffin</td>\n",
       "      <td>North Indian, Home Food, Thalis, Combo</td>\n",
       "      <td>Sector 5, HSR</td>\n",
       "      <td>4.4</td>\n",
       "      <td>₹ 400</td>\n",
       "    </tr>\n",
       "    <tr>\n",
       "      <th>2</th>\n",
       "      <td>Sri Krishna sagar</td>\n",
       "      <td>South Indian, North Indian, Fast Food, Beverag...</td>\n",
       "      <td>6th Block, Koramangala</td>\n",
       "      <td>4.1</td>\n",
       "      <td>₹ 126</td>\n",
       "    </tr>\n",
       "    <tr>\n",
       "      <th>3</th>\n",
       "      <td>Al Daaz</td>\n",
       "      <td>American, Arabian, Chinese, Desserts, Fast Foo...</td>\n",
       "      <td>HSR, HSR</td>\n",
       "      <td>4.4</td>\n",
       "      <td>₹ 400</td>\n",
       "    </tr>\n",
       "    <tr>\n",
       "      <th>4</th>\n",
       "      <td>Beijing Bites</td>\n",
       "      <td>Chinese, Thai</td>\n",
       "      <td>5th Block, Koramangala</td>\n",
       "      <td>4.1</td>\n",
       "      <td>₹ 450</td>\n",
       "    </tr>\n",
       "  </tbody>\n",
       "</table>\n",
       "</div>"
      ],
      "text/plain": [
       "           Shop_Name                                            Cuisine  \\\n",
       "0       Kanti Sweets                                             Sweets   \n",
       "1      Mumbai Tiffin             North Indian, Home Food, Thalis, Combo   \n",
       "2  Sri Krishna sagar  South Indian, North Indian, Fast Food, Beverag...   \n",
       "3            Al Daaz  American, Arabian, Chinese, Desserts, Fast Foo...   \n",
       "4      Beijing Bites                                      Chinese, Thai   \n",
       "\n",
       "                   Location Rating Cost_for_Two  \n",
       "0  Koramangala, Koramangala    4.3        ₹ 150  \n",
       "1             Sector 5, HSR    4.4        ₹ 400  \n",
       "2    6th Block, Koramangala    4.1        ₹ 126  \n",
       "3                  HSR, HSR    4.4        ₹ 400  \n",
       "4    5th Block, Koramangala    4.1        ₹ 450  "
      ]
     },
     "execution_count": 21,
     "metadata": {},
     "output_type": "execute_result"
    }
   ],
   "source": [
    "# top 5 data\n",
    "df.head()"
   ]
  },
  {
   "cell_type": "code",
   "execution_count": 22,
   "id": "60f62cb6",
   "metadata": {},
   "outputs": [
    {
     "data": {
      "text/html": [
       "<div>\n",
       "<style scoped>\n",
       "    .dataframe tbody tr th:only-of-type {\n",
       "        vertical-align: middle;\n",
       "    }\n",
       "\n",
       "    .dataframe tbody tr th {\n",
       "        vertical-align: top;\n",
       "    }\n",
       "\n",
       "    .dataframe thead th {\n",
       "        text-align: right;\n",
       "    }\n",
       "</style>\n",
       "<table border=\"1\" class=\"dataframe\">\n",
       "  <thead>\n",
       "    <tr style=\"text-align: right;\">\n",
       "      <th></th>\n",
       "      <th>Shop_Name</th>\n",
       "      <th>Cuisine</th>\n",
       "      <th>Location</th>\n",
       "      <th>Rating</th>\n",
       "      <th>Cost_for_Two</th>\n",
       "    </tr>\n",
       "  </thead>\n",
       "  <tbody>\n",
       "    <tr>\n",
       "      <th>113</th>\n",
       "      <td>Wok Paper Scissors</td>\n",
       "      <td>Pan-Asian, Chinese, Asian</td>\n",
       "      <td>JNC Road, Koramangala</td>\n",
       "      <td>3.9</td>\n",
       "      <td>₹ 219</td>\n",
       "    </tr>\n",
       "    <tr>\n",
       "      <th>114</th>\n",
       "      <td>Savoury Restaurant</td>\n",
       "      <td>Arabian, Middle Eastern, North Indian, Grill, ...</td>\n",
       "      <td>Madiwala, BTM</td>\n",
       "      <td>4.1</td>\n",
       "      <td>₹ 600</td>\n",
       "    </tr>\n",
       "    <tr>\n",
       "      <th>115</th>\n",
       "      <td>Royal Treat</td>\n",
       "      <td>North Indian, Chinese, Seafood, Biryani</td>\n",
       "      <td>5th block Koramangala, Koramangala</td>\n",
       "      <td>4.2</td>\n",
       "      <td>₹ 193</td>\n",
       "    </tr>\n",
       "    <tr>\n",
       "      <th>116</th>\n",
       "      <td>Thali 99</td>\n",
       "      <td>North Indian</td>\n",
       "      <td>Koramangala, Koramangala</td>\n",
       "      <td>4.3</td>\n",
       "      <td>₹ 200</td>\n",
       "    </tr>\n",
       "    <tr>\n",
       "      <th>117</th>\n",
       "      <td>Mani's Dum Biryani</td>\n",
       "      <td>Andhra, Biryani</td>\n",
       "      <td>1st Block, Koramangala</td>\n",
       "      <td>4.2</td>\n",
       "      <td>₹ 400</td>\n",
       "    </tr>\n",
       "  </tbody>\n",
       "</table>\n",
       "</div>"
      ],
      "text/plain": [
       "              Shop_Name                                            Cuisine  \\\n",
       "113  Wok Paper Scissors                          Pan-Asian, Chinese, Asian   \n",
       "114  Savoury Restaurant  Arabian, Middle Eastern, North Indian, Grill, ...   \n",
       "115         Royal Treat            North Indian, Chinese, Seafood, Biryani   \n",
       "116            Thali 99                                       North Indian   \n",
       "117  Mani's Dum Biryani                                    Andhra, Biryani   \n",
       "\n",
       "                               Location Rating Cost_for_Two  \n",
       "113               JNC Road, Koramangala    3.9        ₹ 219  \n",
       "114                       Madiwala, BTM    4.1        ₹ 600  \n",
       "115  5th block Koramangala, Koramangala    4.2        ₹ 193  \n",
       "116            Koramangala, Koramangala    4.3        ₹ 200  \n",
       "117              1st Block, Koramangala    4.2        ₹ 400  "
      ]
     },
     "execution_count": 22,
     "metadata": {},
     "output_type": "execute_result"
    }
   ],
   "source": [
    "# last 5 data\n",
    "df.tail()"
   ]
  },
  {
   "cell_type": "code",
   "execution_count": 23,
   "id": "9f21eeb5",
   "metadata": {},
   "outputs": [
    {
     "data": {
      "text/html": [
       "<div>\n",
       "<style scoped>\n",
       "    .dataframe tbody tr th:only-of-type {\n",
       "        vertical-align: middle;\n",
       "    }\n",
       "\n",
       "    .dataframe tbody tr th {\n",
       "        vertical-align: top;\n",
       "    }\n",
       "\n",
       "    .dataframe thead th {\n",
       "        text-align: right;\n",
       "    }\n",
       "</style>\n",
       "<table border=\"1\" class=\"dataframe\">\n",
       "  <thead>\n",
       "    <tr style=\"text-align: right;\">\n",
       "      <th></th>\n",
       "      <th>Shop_Name</th>\n",
       "      <th>Cuisine</th>\n",
       "      <th>Location</th>\n",
       "      <th>Rating</th>\n",
       "      <th>Cost_for_Two</th>\n",
       "    </tr>\n",
       "  </thead>\n",
       "  <tbody>\n",
       "    <tr>\n",
       "      <th>count</th>\n",
       "      <td>118</td>\n",
       "      <td>118</td>\n",
       "      <td>118</td>\n",
       "      <td>118</td>\n",
       "      <td>118</td>\n",
       "    </tr>\n",
       "    <tr>\n",
       "      <th>unique</th>\n",
       "      <td>115</td>\n",
       "      <td>79</td>\n",
       "      <td>65</td>\n",
       "      <td>13</td>\n",
       "      <td>30</td>\n",
       "    </tr>\n",
       "    <tr>\n",
       "      <th>top</th>\n",
       "      <td>La Pino'z Pizza</td>\n",
       "      <td>North Indian</td>\n",
       "      <td>BTM, BTM</td>\n",
       "      <td>4.1</td>\n",
       "      <td>₹ 300</td>\n",
       "    </tr>\n",
       "    <tr>\n",
       "      <th>freq</th>\n",
       "      <td>2</td>\n",
       "      <td>12</td>\n",
       "      <td>13</td>\n",
       "      <td>30</td>\n",
       "      <td>16</td>\n",
       "    </tr>\n",
       "  </tbody>\n",
       "</table>\n",
       "</div>"
      ],
      "text/plain": [
       "              Shop_Name       Cuisine  Location Rating Cost_for_Two\n",
       "count               118           118       118    118          118\n",
       "unique              115            79        65     13           30\n",
       "top     La Pino'z Pizza  North Indian  BTM, BTM    4.1        ₹ 300\n",
       "freq                  2            12        13     30           16"
      ]
     },
     "execution_count": 23,
     "metadata": {},
     "output_type": "execute_result"
    }
   ],
   "source": [
    "df.describe()"
   ]
  },
  {
   "cell_type": "markdown",
   "id": "d60258a3",
   "metadata": {},
   "source": [
    "### Data Cleaning"
   ]
  },
  {
   "cell_type": "code",
   "execution_count": 24,
   "id": "ce762a5e",
   "metadata": {},
   "outputs": [
    {
     "data": {
      "text/html": [
       "<div>\n",
       "<style scoped>\n",
       "    .dataframe tbody tr th:only-of-type {\n",
       "        vertical-align: middle;\n",
       "    }\n",
       "\n",
       "    .dataframe tbody tr th {\n",
       "        vertical-align: top;\n",
       "    }\n",
       "\n",
       "    .dataframe thead th {\n",
       "        text-align: right;\n",
       "    }\n",
       "</style>\n",
       "<table border=\"1\" class=\"dataframe\">\n",
       "  <thead>\n",
       "    <tr style=\"text-align: right;\">\n",
       "      <th></th>\n",
       "      <th>Shop_Name</th>\n",
       "      <th>Cuisine</th>\n",
       "      <th>Location</th>\n",
       "      <th>Rating</th>\n",
       "      <th>Cost_for_Two</th>\n",
       "    </tr>\n",
       "  </thead>\n",
       "  <tbody>\n",
       "    <tr>\n",
       "      <th>0</th>\n",
       "      <td>False</td>\n",
       "      <td>False</td>\n",
       "      <td>False</td>\n",
       "      <td>False</td>\n",
       "      <td>False</td>\n",
       "    </tr>\n",
       "    <tr>\n",
       "      <th>1</th>\n",
       "      <td>False</td>\n",
       "      <td>False</td>\n",
       "      <td>False</td>\n",
       "      <td>False</td>\n",
       "      <td>False</td>\n",
       "    </tr>\n",
       "    <tr>\n",
       "      <th>2</th>\n",
       "      <td>False</td>\n",
       "      <td>False</td>\n",
       "      <td>False</td>\n",
       "      <td>False</td>\n",
       "      <td>False</td>\n",
       "    </tr>\n",
       "    <tr>\n",
       "      <th>3</th>\n",
       "      <td>False</td>\n",
       "      <td>False</td>\n",
       "      <td>False</td>\n",
       "      <td>False</td>\n",
       "      <td>False</td>\n",
       "    </tr>\n",
       "    <tr>\n",
       "      <th>4</th>\n",
       "      <td>False</td>\n",
       "      <td>False</td>\n",
       "      <td>False</td>\n",
       "      <td>False</td>\n",
       "      <td>False</td>\n",
       "    </tr>\n",
       "    <tr>\n",
       "      <th>...</th>\n",
       "      <td>...</td>\n",
       "      <td>...</td>\n",
       "      <td>...</td>\n",
       "      <td>...</td>\n",
       "      <td>...</td>\n",
       "    </tr>\n",
       "    <tr>\n",
       "      <th>113</th>\n",
       "      <td>False</td>\n",
       "      <td>False</td>\n",
       "      <td>False</td>\n",
       "      <td>False</td>\n",
       "      <td>False</td>\n",
       "    </tr>\n",
       "    <tr>\n",
       "      <th>114</th>\n",
       "      <td>False</td>\n",
       "      <td>False</td>\n",
       "      <td>False</td>\n",
       "      <td>False</td>\n",
       "      <td>False</td>\n",
       "    </tr>\n",
       "    <tr>\n",
       "      <th>115</th>\n",
       "      <td>False</td>\n",
       "      <td>False</td>\n",
       "      <td>False</td>\n",
       "      <td>False</td>\n",
       "      <td>False</td>\n",
       "    </tr>\n",
       "    <tr>\n",
       "      <th>116</th>\n",
       "      <td>False</td>\n",
       "      <td>False</td>\n",
       "      <td>False</td>\n",
       "      <td>False</td>\n",
       "      <td>False</td>\n",
       "    </tr>\n",
       "    <tr>\n",
       "      <th>117</th>\n",
       "      <td>False</td>\n",
       "      <td>False</td>\n",
       "      <td>False</td>\n",
       "      <td>False</td>\n",
       "      <td>False</td>\n",
       "    </tr>\n",
       "  </tbody>\n",
       "</table>\n",
       "<p>118 rows × 5 columns</p>\n",
       "</div>"
      ],
      "text/plain": [
       "     Shop_Name  Cuisine  Location  Rating  Cost_for_Two\n",
       "0        False    False     False   False         False\n",
       "1        False    False     False   False         False\n",
       "2        False    False     False   False         False\n",
       "3        False    False     False   False         False\n",
       "4        False    False     False   False         False\n",
       "..         ...      ...       ...     ...           ...\n",
       "113      False    False     False   False         False\n",
       "114      False    False     False   False         False\n",
       "115      False    False     False   False         False\n",
       "116      False    False     False   False         False\n",
       "117      False    False     False   False         False\n",
       "\n",
       "[118 rows x 5 columns]"
      ]
     },
     "execution_count": 24,
     "metadata": {},
     "output_type": "execute_result"
    }
   ],
   "source": [
    "df.isnull()"
   ]
  },
  {
   "cell_type": "code",
   "execution_count": 25,
   "id": "48093bfa",
   "metadata": {},
   "outputs": [],
   "source": [
    "df['Rating'] = pd.to_numeric(df['Rating'], errors='coerce')"
   ]
  },
  {
   "cell_type": "code",
   "execution_count": 26,
   "id": "acd9844e",
   "metadata": {},
   "outputs": [],
   "source": [
    "df['Cost_for_Two'] = df['Cost_for_Two'].str.replace('₹', '').str.replace(',', '').astype(float)"
   ]
  },
  {
   "cell_type": "code",
   "execution_count": 27,
   "id": "7a62fb00",
   "metadata": {},
   "outputs": [
    {
     "name": "stdout",
     "output_type": "stream",
     "text": [
      "<class 'pandas.core.frame.DataFrame'>\n",
      "RangeIndex: 118 entries, 0 to 117\n",
      "Data columns (total 5 columns):\n",
      " #   Column        Non-Null Count  Dtype  \n",
      "---  ------        --------------  -----  \n",
      " 0   Shop_Name     118 non-null    object \n",
      " 1   Cuisine       118 non-null    object \n",
      " 2   Location      118 non-null    object \n",
      " 3   Rating        117 non-null    float64\n",
      " 4   Cost_for_Two  118 non-null    float64\n",
      "dtypes: float64(2), object(3)\n",
      "memory usage: 4.7+ KB\n"
     ]
    },
    {
     "data": {
      "text/html": [
       "<div>\n",
       "<style scoped>\n",
       "    .dataframe tbody tr th:only-of-type {\n",
       "        vertical-align: middle;\n",
       "    }\n",
       "\n",
       "    .dataframe tbody tr th {\n",
       "        vertical-align: top;\n",
       "    }\n",
       "\n",
       "    .dataframe thead th {\n",
       "        text-align: right;\n",
       "    }\n",
       "</style>\n",
       "<table border=\"1\" class=\"dataframe\">\n",
       "  <thead>\n",
       "    <tr style=\"text-align: right;\">\n",
       "      <th></th>\n",
       "      <th>Shop_Name</th>\n",
       "      <th>Cuisine</th>\n",
       "      <th>Location</th>\n",
       "      <th>Rating</th>\n",
       "      <th>Cost_for_Two</th>\n",
       "    </tr>\n",
       "  </thead>\n",
       "  <tbody>\n",
       "    <tr>\n",
       "      <th>0</th>\n",
       "      <td>Kanti Sweets</td>\n",
       "      <td>Sweets</td>\n",
       "      <td>Koramangala, Koramangala</td>\n",
       "      <td>4.3</td>\n",
       "      <td>150.0</td>\n",
       "    </tr>\n",
       "    <tr>\n",
       "      <th>1</th>\n",
       "      <td>Mumbai Tiffin</td>\n",
       "      <td>North Indian, Home Food, Thalis, Combo</td>\n",
       "      <td>Sector 5, HSR</td>\n",
       "      <td>4.4</td>\n",
       "      <td>400.0</td>\n",
       "    </tr>\n",
       "    <tr>\n",
       "      <th>2</th>\n",
       "      <td>Sri Krishna sagar</td>\n",
       "      <td>South Indian, North Indian, Fast Food, Beverag...</td>\n",
       "      <td>6th Block, Koramangala</td>\n",
       "      <td>4.1</td>\n",
       "      <td>126.0</td>\n",
       "    </tr>\n",
       "    <tr>\n",
       "      <th>3</th>\n",
       "      <td>Al Daaz</td>\n",
       "      <td>American, Arabian, Chinese, Desserts, Fast Foo...</td>\n",
       "      <td>HSR, HSR</td>\n",
       "      <td>4.4</td>\n",
       "      <td>400.0</td>\n",
       "    </tr>\n",
       "    <tr>\n",
       "      <th>4</th>\n",
       "      <td>Beijing Bites</td>\n",
       "      <td>Chinese, Thai</td>\n",
       "      <td>5th Block, Koramangala</td>\n",
       "      <td>4.1</td>\n",
       "      <td>450.0</td>\n",
       "    </tr>\n",
       "  </tbody>\n",
       "</table>\n",
       "</div>"
      ],
      "text/plain": [
       "           Shop_Name                                            Cuisine  \\\n",
       "0       Kanti Sweets                                             Sweets   \n",
       "1      Mumbai Tiffin             North Indian, Home Food, Thalis, Combo   \n",
       "2  Sri Krishna sagar  South Indian, North Indian, Fast Food, Beverag...   \n",
       "3            Al Daaz  American, Arabian, Chinese, Desserts, Fast Foo...   \n",
       "4      Beijing Bites                                      Chinese, Thai   \n",
       "\n",
       "                   Location  Rating  Cost_for_Two  \n",
       "0  Koramangala, Koramangala     4.3         150.0  \n",
       "1             Sector 5, HSR     4.4         400.0  \n",
       "2    6th Block, Koramangala     4.1         126.0  \n",
       "3                  HSR, HSR     4.4         400.0  \n",
       "4    5th Block, Koramangala     4.1         450.0  "
      ]
     },
     "execution_count": 27,
     "metadata": {},
     "output_type": "execute_result"
    }
   ],
   "source": [
    "df.info()\n",
    "df.head()"
   ]
  },
  {
   "cell_type": "code",
   "execution_count": 28,
   "id": "7e7146fc",
   "metadata": {},
   "outputs": [],
   "source": [
    "sea.set(style=\"whitegrid\")"
   ]
  },
  {
   "cell_type": "code",
   "execution_count": 29,
   "id": "eed259f2",
   "metadata": {},
   "outputs": [],
   "source": [
    "top_rated = df.sort_values(by=\"Rating\", ascending=False).head(10)"
   ]
  },
  {
   "cell_type": "code",
   "execution_count": 30,
   "id": "fb7f66b8",
   "metadata": {},
   "outputs": [],
   "source": [
    "from collections import Counter\n",
    "cuisine_list = [c.strip() for cuisines in df[\"Cuisine\"] for c in cuisines.split(\",\")]\n",
    "cuisine_counts = Counter(cuisine_list)\n",
    "top_cuisines = pd.DataFrame(cuisine_counts.items(), columns=[\"Cuisine\", \"Count\"]).sort_values(by=\"Count\", ascending=False)"
   ]
  },
  {
   "cell_type": "code",
   "execution_count": 31,
   "id": "17fea381",
   "metadata": {},
   "outputs": [
    {
     "data": {
      "image/png": "[encoded data removed]",
      "text/plain": [
       "<Figure size 800x500 with 1 Axes>"
      ]
     },
     "metadata": {},
     "output_type": "display_data"
    }
   ],
   "source": [
    "plt.figure(figsize=(8, 5))\n",
    "sea.histplot(df[\"Cost_for_Two\"], bins=15, kde=True, color=\"blue\")\n",
    "plt.title(\"Cost for Two Distribution\", fontsize=14)\n",
    "plt.xlabel(\"Cost for Two (₹)\", fontsize=12)\n",
    "plt.ylabel(\"Frequency\", fontsize=12)\n",
    "plt.show()"
   ]
  },
  {
   "cell_type": "code",
   "execution_count": 33,
   "id": "7c12e0d9",
   "metadata": {},
   "outputs": [
    {
     "data": {
      "image/png": "[encoded data removed]",
      "text/plain": [
       "<Figure size 800x500 with 1 Axes>"
      ]
     },
     "metadata": {},
     "output_type": "display_data"
    }
   ],
   "source": [
    "# Relationship between Cost and Rating\n",
    "plt.figure(figsize=(8, 5))\n",
    "sea.scatterplot(x=df[\"Cost_for_Two\"], y=df[\"Rating\"], alpha=0.7)\n",
    "plt.title(\"Cost vs. Rating\", fontsize=14)\n",
    "plt.xlabel(\"Cost for Two (₹)\", fontsize=12)\n",
    "plt.ylabel(\"Rating\", fontsize=12)\n",
    "plt.show()"
   ]
  },
  {
   "cell_type": "code",
   "execution_count": 34,
   "id": "eb10d602",
   "metadata": {},
   "outputs": [
    {
     "data": {
      "text/plain": [
       "(                             Shop_Name  \\\n",
       " 78                  Khichdi Experiment   \n",
       " 82                   Natural Ice Cream   \n",
       " 94              Corner House Ice Cream   \n",
       " 80                         Chinese Bae   \n",
       " 1                        Mumbai Tiffin   \n",
       " 3                              Al Daaz   \n",
       " 48                         China Pearl   \n",
       " 111                            Bowl 99   \n",
       " 43                         Cream Stone   \n",
       " 20   Just Bake - Cakes & confectioners   \n",
       " \n",
       "                                                Cuisine  \\\n",
       " 78                     Home Food, Healthy Food, Indian   \n",
       " 82                                           Ice Cream   \n",
       " 94                                 Ice Cream, Desserts   \n",
       " 80                                       Chinese, Thai   \n",
       " 1               North Indian, Home Food, Thalis, Combo   \n",
       " 3    American, Arabian, Chinese, Desserts, Fast Foo...   \n",
       " 48                                      Chinese, Asian   \n",
       " 111                         North Indian, South Indian   \n",
       " 43                                            Desserts   \n",
       " 20                                    Desserts, Bakery   \n",
       " \n",
       "                                 Location  Rating  Cost_for_Two  \n",
       " 78              Koramangala, Koramangala     4.8         200.0  \n",
       " 82   Near Wipro Park Signal, Koramangala     4.6         150.0  \n",
       " 94                7th Block, Koramangala     4.6         250.0  \n",
       " 80                              BTM, BTM     4.5         450.0  \n",
       " 1                          Sector 5, HSR     4.4         400.0  \n",
       " 3                               HSR, HSR     4.4         400.0  \n",
       " 48                6th Block, Koramangala     4.4         527.0  \n",
       " 111              kormangala, Koramangala     4.4         200.0  \n",
       " 43                5th Block, Koramangala     4.3         250.0  \n",
       " 20                    BTM 1st stage, BTM     4.3         300.0  ,\n",
       "          Cuisine  Count\n",
       " 1   North Indian     47\n",
       " 11       Chinese     42\n",
       " 5   South Indian     28\n",
       " 21       Biryani     26\n",
       " 12      Desserts     22\n",
       " 6      Fast Food     20\n",
       " 19        Andhra     15\n",
       " 9       American     11\n",
       " 7      Beverages      9\n",
       " 20       Seafood      9,\n",
       " Location\n",
       " BTM, BTM                      13\n",
       " Koramangala, Koramangala      12\n",
       " 5th Block, Koramangala        10\n",
       " HSR, HSR                       8\n",
       " 6th Block, Koramangala         5\n",
       " 7th Block, Koramangala         5\n",
       " 1st Block, Koramangala         5\n",
       " 4th Cross, BTM                 2\n",
       " 4th Block, Koramangala         2\n",
       " 9th Main road, Koramangala     1\n",
       " Name: count, dtype: int64)"
      ]
     },
     "execution_count": 34,
     "metadata": {},
     "output_type": "execute_result"
    }
   ],
   "source": [
    "# Popular restaurant locations\n",
    "top_locations = df[\"Location\"].value_counts().head(10)\n",
    "\n",
    "top_rated, top_cuisines.head(10), top_locations"
   ]
  },
  {
   "cell_type": "code",
   "execution_count": 43,
   "id": "fb035de9",
   "metadata": {},
   "outputs": [
    {
     "name": "stdout",
     "output_type": "stream",
     "text": [
      "Collecting scikit-learn\n",
      "  Downloading scikit_learn-1.6.1-cp311-cp311-win_amd64.whl.metadata (15 kB)\n",
      "Requirement already satisfied: numpy>=1.19.5 in c:\\users\\shubh\\anaconda3\\envs\\notebook\\lib\\site-packages (from scikit-learn) (2.2.3)\n",
      "Collecting scipy>=1.6.0 (from scikit-learn)\n",
      "  Downloading scipy-1.15.2-cp311-cp311-win_amd64.whl.metadata (60 kB)\n",
      "Collecting joblib>=1.2.0 (from scikit-learn)\n",
      "  Downloading joblib-1.4.2-py3-none-any.whl.metadata (5.4 kB)\n",
      "Collecting threadpoolctl>=3.1.0 (from scikit-learn)\n",
      "  Downloading threadpoolctl-3.5.0-py3-none-any.whl.metadata (13 kB)\n",
      "Downloading scikit_learn-1.6.1-cp311-cp311-win_amd64.whl (11.1 MB)\n",
      "   ---------------------------------------- 0.0/11.1 MB ? eta -:--:--\n",
      "   ---- ----------------------------------- 1.3/11.1 MB 6.7 MB/s eta 0:00:02\n",
      "   --------- ------------------------------ 2.6/11.1 MB 6.0 MB/s eta 0:00:02\n",
      "   -------------- ------------------------- 3.9/11.1 MB 6.0 MB/s eta 0:00:02\n",
      "   ----------------- ---------------------- 5.0/11.1 MB 5.9 MB/s eta 0:00:02\n",
      "   ---------------------- ----------------- 6.3/11.1 MB 5.8 MB/s eta 0:00:01\n",
      "   -------------------------- ------------- 7.3/11.1 MB 5.8 MB/s eta 0:00:01\n",
      "   ------------------------------ --------- 8.4/11.1 MB 5.5 MB/s eta 0:00:01\n",
      "   --------------------------------- ------ 9.4/11.1 MB 5.4 MB/s eta 0:00:01\n",
      "   ------------------------------------ --- 10.2/11.1 MB 5.4 MB/s eta 0:00:01\n",
      "   ---------------------------------------  11.0/11.1 MB 5.3 MB/s eta 0:00:01\n",
      "   ---------------------------------------- 11.1/11.1 MB 4.8 MB/s eta 0:00:00\n",
      "Downloading joblib-1.4.2-py3-none-any.whl (301 kB)\n",
      "Downloading scipy-1.15.2-cp311-cp311-win_amd64.whl (41.2 MB)\n",
      "   ---------------------------------------- 0.0/41.2 MB ? eta -:--:--\n",
      "   - -------------------------------------- 1.0/41.2 MB 5.0 MB/s eta 0:00:08\n",
      "   - -------------------------------------- 1.8/41.2 MB 4.6 MB/s eta 0:00:09\n",
      "   -- ------------------------------------- 2.6/41.2 MB 4.2 MB/s eta 0:00:10\n",
      "   --- ------------------------------------ 3.7/41.2 MB 4.2 MB/s eta 0:00:09\n",
      "   ---- ----------------------------------- 4.5/41.2 MB 4.2 MB/s eta 0:00:09\n",
      "   ----- ---------------------------------- 5.8/41.2 MB 4.4 MB/s eta 0:00:09\n",
      "   ------ --------------------------------- 7.1/41.2 MB 4.6 MB/s eta 0:00:08\n",
      "   ------- -------------------------------- 8.1/41.2 MB 4.7 MB/s eta 0:00:08\n",
      "   --------- ------------------------------ 9.4/41.2 MB 4.8 MB/s eta 0:00:07\n",
      "   ---------- ----------------------------- 10.5/41.2 MB 4.9 MB/s eta 0:00:07\n",
      "   ----------- ---------------------------- 11.8/41.2 MB 5.0 MB/s eta 0:00:06\n",
      "   ------------ --------------------------- 13.1/41.2 MB 5.1 MB/s eta 0:00:06\n",
      "   ------------- -------------------------- 14.4/41.2 MB 5.2 MB/s eta 0:00:06\n",
      "   --------------- ------------------------ 16.0/41.2 MB 5.3 MB/s eta 0:00:05\n",
      "   ----------------- ---------------------- 17.6/41.2 MB 5.4 MB/s eta 0:00:05\n",
      "   ------------------ --------------------- 19.1/41.2 MB 5.5 MB/s eta 0:00:05\n",
      "   ------------------- -------------------- 20.2/41.2 MB 5.5 MB/s eta 0:00:04\n",
      "   -------------------- ------------------- 21.5/41.2 MB 5.6 MB/s eta 0:00:04\n",
      "   -------------------- ------------------- 21.5/41.2 MB 5.6 MB/s eta 0:00:04\n",
      "   ---------------------- ----------------- 22.8/41.2 MB 5.3 MB/s eta 0:00:04\n",
      "   ----------------------- ---------------- 23.9/41.2 MB 5.4 MB/s eta 0:00:04\n",
      "   ----------------------- ---------------- 24.6/41.2 MB 5.2 MB/s eta 0:00:04\n",
      "   ------------------------- -------------- 26.0/41.2 MB 5.2 MB/s eta 0:00:03\n",
      "   -------------------------- ------------- 27.8/41.2 MB 5.3 MB/s eta 0:00:03\n",
      "   ---------------------------- ----------- 29.6/41.2 MB 5.4 MB/s eta 0:00:03\n",
      "   ------------------------------ --------- 31.2/41.2 MB 5.5 MB/s eta 0:00:02\n",
      "   -------------------------------- ------- 33.0/41.2 MB 5.6 MB/s eta 0:00:02\n",
      "   --------------------------------- ------ 34.6/41.2 MB 5.7 MB/s eta 0:00:02\n",
      "   ----------------------------------- ---- 36.4/41.2 MB 5.8 MB/s eta 0:00:01\n",
      "   ------------------------------------- -- 38.3/41.2 MB 5.9 MB/s eta 0:00:01\n",
      "   -------------------------------------- - 39.6/41.2 MB 5.9 MB/s eta 0:00:01\n",
      "   ---------------------------------------  41.2/41.2 MB 6.0 MB/s eta 0:00:01\n",
      "   ---------------------------------------  41.2/41.2 MB 6.0 MB/s eta 0:00:01\n",
      "   ---------------------------------------  41.2/41.2 MB 6.0 MB/s eta 0:00:01\n",
      "   ---------------------------------------- 41.2/41.2 MB 5.5 MB/s eta 0:00:00\n",
      "Downloading threadpoolctl-3.5.0-py3-none-any.whl (18 kB)\n",
      "Installing collected packages: threadpoolctl, scipy, joblib, scikit-learn\n",
      "Successfully installed joblib-1.4.2 scikit-learn-1.6.1 scipy-1.15.2 threadpoolctl-3.5.0\n"
     ]
    }
   ],
   "source": [
    "!pip install scikit-learn"
   ]
  },
  {
   "cell_type": "code",
   "execution_count": 44,
   "id": "37e6a666",
   "metadata": {},
   "outputs": [],
   "source": [
    "from sklearn.cluster import KMeans\n",
    "import numpy as np"
   ]
  },
  {
   "cell_type": "code",
   "execution_count": 45,
   "id": "1316fcb3",
   "metadata": {},
   "outputs": [],
   "source": [
    "# Cuisine-based Pricing Trends\n",
    "cuisine_avg_cost = []\n",
    "for cuisine, count in cuisine_counts.items():\n",
    "    avg_cost = df[df[\"Cuisine\"].str.contains(cuisine, case=False, na=False)][\"Cost_for_Two\"].mean()\n",
    "    cuisine_avg_cost.append((cuisine, avg_cost))\n",
    "\n",
    "cuisine_avg_cost_df = pd.DataFrame(cuisine_avg_cost, columns=[\"Cuisine\", \"Avg_Cost\"]).sort_values(by=\"Avg_Cost\", ascending=False)"
   ]
  },
  {
   "cell_type": "code",
   "execution_count": 46,
   "id": "628761a0",
   "metadata": {},
   "outputs": [
    {
     "name": "stderr",
     "output_type": "stream",
     "text": [
      "C:\\Users\\shubh\\AppData\\Local\\Temp\\ipykernel_14740\\270141464.py:3: FutureWarning: \n",
      "\n",
      "Passing `palette` without assigning `hue` is deprecated and will be removed in v0.14.0. Assign the `y` variable to `hue` and set `legend=False` for the same effect.\n",
      "\n",
      "  sea.barplot(data=cuisine_avg_cost_df.head(10), x=\"Avg_Cost\", y=\"Cuisine\", palette=\"coolwarm\")\n"
     ]
    },
    {
     "data": {
      "image/png": "[encoded data removed]",
      "text/plain": [
       "<Figure size 1000x500 with 1 Axes>"
      ]
     },
     "metadata": {},
     "output_type": "display_data"
    }
   ],
   "source": [
    "# Plot cuisine-based pricing trends\n",
    "plt.figure(figsize=(10, 5))\n",
    "sea.barplot(data=cuisine_avg_cost_df.head(10), x=\"Avg_Cost\", y=\"Cuisine\", palette=\"coolwarm\")\n",
    "plt.title(\"Average Cost for Two by Cuisine\", fontsize=14)\n",
    "plt.xlabel(\"Average Cost (₹)\", fontsize=12)\n",
    "plt.ylabel(\"Cuisine\", fontsize=12)\n",
    "plt.show()"
   ]
  },
  {
   "cell_type": "code",
   "execution_count": 47,
   "id": "d5631190",
   "metadata": {},
   "outputs": [],
   "source": [
    "# Clustering of Restaurant Ratings and Cost\n",
    "cluster_data = df[[\"Cost_for_Two\", \"Rating\"]].dropna()"
   ]
  },
  {
   "cell_type": "code",
   "execution_count": 48,
   "id": "06d1d76f",
   "metadata": {},
   "outputs": [],
   "source": [
    "# Using K-Means with 3 clusters (Low, Medium, High cost restaurants)\n",
    "kmeans = KMeans(n_clusters=3, random_state=42, n_init=10)\n",
    "cluster_data[\"Cluster\"] = kmeans.fit_predict(cluster_data)"
   ]
  },
  {
   "cell_type": "code",
   "execution_count": 49,
   "id": "f8e26d5e",
   "metadata": {},
   "outputs": [
    {
     "data": {
      "image/png": "[encoded data removed]",
      "text/plain": [
       "<Figure size 800x500 with 1 Axes>"
      ]
     },
     "metadata": {},
     "output_type": "display_data"
    }
   ],
   "source": [
    "# Plot clustering results\n",
    "plt.figure(figsize=(8, 5))\n",
    "sea.scatterplot(data=cluster_data, x=\"Cost_for_Two\", y=\"Rating\", hue=cluster_data[\"Cluster\"], palette=\"viridis\", alpha=0.7)\n",
    "plt.title(\"Clustering of Restaurants by Cost and Rating\", fontsize=14)\n",
    "plt.xlabel(\"Cost for Two (₹)\", fontsize=12)\n",
    "plt.ylabel(\"Rating\", fontsize=12)\n",
    "plt.legend(title=\"Cluster\")\n",
    "plt.show()"
   ]
  },
  {
   "cell_type": "code",
   "execution_count": 50,
   "id": "c0042886",
   "metadata": {},
   "outputs": [
    {
     "data": {
      "text/html": [
       "<div>\n",
       "<style scoped>\n",
       "    .dataframe tbody tr th:only-of-type {\n",
       "        vertical-align: middle;\n",
       "    }\n",
       "\n",
       "    .dataframe tbody tr th {\n",
       "        vertical-align: top;\n",
       "    }\n",
       "\n",
       "    .dataframe thead th {\n",
       "        text-align: right;\n",
       "    }\n",
       "</style>\n",
       "<table border=\"1\" class=\"dataframe\">\n",
       "  <thead>\n",
       "    <tr style=\"text-align: right;\">\n",
       "      <th></th>\n",
       "      <th>Cuisine</th>\n",
       "      <th>Avg_Cost</th>\n",
       "    </tr>\n",
       "  </thead>\n",
       "  <tbody>\n",
       "    <tr>\n",
       "      <th>47</th>\n",
       "      <td>Middle Eastern</td>\n",
       "      <td>600.000000</td>\n",
       "    </tr>\n",
       "    <tr>\n",
       "      <th>41</th>\n",
       "      <td>Grill</td>\n",
       "      <td>450.000000</td>\n",
       "    </tr>\n",
       "    <tr>\n",
       "      <th>44</th>\n",
       "      <td>Chettinad</td>\n",
       "      <td>450.000000</td>\n",
       "    </tr>\n",
       "    <tr>\n",
       "      <th>14</th>\n",
       "      <td>Thai</td>\n",
       "      <td>416.666667</td>\n",
       "    </tr>\n",
       "    <tr>\n",
       "      <th>13</th>\n",
       "      <td>Mughlai</td>\n",
       "      <td>414.142857</td>\n",
       "    </tr>\n",
       "    <tr>\n",
       "      <th>20</th>\n",
       "      <td>Seafood</td>\n",
       "      <td>410.222222</td>\n",
       "    </tr>\n",
       "    <tr>\n",
       "      <th>3</th>\n",
       "      <td>Thalis</td>\n",
       "      <td>400.000000</td>\n",
       "    </tr>\n",
       "    <tr>\n",
       "      <th>4</th>\n",
       "      <td>Combo</td>\n",
       "      <td>400.000000</td>\n",
       "    </tr>\n",
       "    <tr>\n",
       "      <th>38</th>\n",
       "      <td>Punjabi</td>\n",
       "      <td>399.500000</td>\n",
       "    </tr>\n",
       "    <tr>\n",
       "      <th>10</th>\n",
       "      <td>Arabian</td>\n",
       "      <td>387.500000</td>\n",
       "    </tr>\n",
       "  </tbody>\n",
       "</table>\n",
       "</div>"
      ],
      "text/plain": [
       "           Cuisine    Avg_Cost\n",
       "47  Middle Eastern  600.000000\n",
       "41           Grill  450.000000\n",
       "44       Chettinad  450.000000\n",
       "14            Thai  416.666667\n",
       "13         Mughlai  414.142857\n",
       "20         Seafood  410.222222\n",
       "3           Thalis  400.000000\n",
       "4            Combo  400.000000\n",
       "38         Punjabi  399.500000\n",
       "10         Arabian  387.500000"
      ]
     },
     "execution_count": 50,
     "metadata": {},
     "output_type": "execute_result"
    }
   ],
   "source": [
    "cuisine_avg_cost_df.head(10)"
   ]
  },
  {
   "cell_type": "code",
   "execution_count": null,
   "id": "6c661536",
   "metadata": {},
   "outputs": [],
   "source": []
  }
 ],
 "metadata": {
  "kernelspec": {
   "display_name": "Python 3 (ipykernel)",
   "language": "python",
   "name": "python3"
  },
  "language_info": {
   "codemirror_mode": {
    "name": "ipython",
    "version": 3
   },
   "file_extension": ".py",
   "mimetype": "text/x-python",
   "name": "python",
   "nbconvert_exporter": "python",
   "pygments_lexer": "ipython3",
   "version": "3.11.11"
  }
 },
 "nbformat": 4,
 "nbformat_minor": 5
}
